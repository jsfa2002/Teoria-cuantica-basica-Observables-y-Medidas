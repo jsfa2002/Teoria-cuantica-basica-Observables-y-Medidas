{
  "nbformat": 4,
  "nbformat_minor": 0,
  "metadata": {
    "colab": {
      "provenance": []
    },
    "kernelspec": {
      "name": "python3",
      "display_name": "Python 3"
    },
    "language_info": {
      "name": "python"
    }
  },
  "cells": [
    {
      "cell_type": "markdown",
      "source": [
        "# **Tarea: Teoría cuántica básica, Observables y Medidas**\n",
        "\n",
        "Por: Juan sebastián Fajardo Acevedo"
      ],
      "metadata": {
        "id": "-34QJt59u_W9"
      }
    },
    {
      "cell_type": "markdown",
      "source": [
        "# Simule el primer sistema cuántico descrito en la sección 4.1.\n",
        "\n",
        "El sistema consiste en una partícula confinada a un conjunto discreto de posiciones en una línea. El simulador debe permitir especificar el número de posiciones y un vector ket de estado asignando las amplitudes.\n",
        "\n",
        "1. El sistema debe calcular la probabilidad de encontrarlo en una posición en particular.\n",
        "\n",
        "2. El sistema si se le da otro vector Ket debe buscar la probabilidad de transitar del primer vector al segundo."
      ],
      "metadata": {
        "id": "sN2hZVsru_au"
      }
    },
    {
      "cell_type": "code",
      "source": [
        "import numpy as np\n",
        "\n",
        "def normalize_ket(ket):\n",
        "    norm = np.linalg.norm(ket)\n",
        "    if norm == 0:\n",
        "        raise ValueError(\"El vector ket no puede ser el vector cero.\")\n",
        "    return ket / norm\n",
        "\n",
        "def probability_of_position(ket):\n",
        "    return np.abs(ket) ** 2\n",
        "\n",
        "def transition_probability(ket1, ket2):\n",
        "    ket1 = normalize_ket(ket1)\n",
        "    ket2 = normalize_ket(ket2)\n",
        "    return np.abs(np.vdot(ket1, ket2)) ** 2\n",
        "\n",
        "# Ejemplo\n",
        "num_positions = 5  # EL número de posiciones discretas\n",
        "dim = num_positions\n",
        "\n",
        "# estado ket inicial\n",
        "ket1 = np.array([1+0j, 0.5+0.5j, 0, 0.5-0.5j, 1+0j])\n",
        "ket1 = normalize_ket(ket1)\n",
        "\n",
        "# Calcular la probabilidad de encontrar la partícula en cada posición\n",
        "probabilities = probability_of_position(ket1)\n",
        "print(\"Probabilidades de encontrar la partícula en cada posición:\", probabilities)\n",
        "\n",
        "# otro estado ket\n",
        "ket2 = np.array([0, 1, 0, 0, 0])\n",
        "ket2 = normalize_ket(ket2)\n",
        "\n",
        "# Calcular la probabilidad de transición del ket1 a ket2\n",
        "trans_prob = transition_probability(ket1, ket2)\n",
        "print(\"Probabilidad de transición de ket1 a ket2:\", trans_prob)"
      ],
      "metadata": {
        "colab": {
          "base_uri": "https://localhost:8080/"
        },
        "id": "2Eq51oaKxOzG",
        "outputId": "9b8c3d6d-8252-41bf-893e-a793908b290c"
      },
      "execution_count": null,
      "outputs": [
        {
          "output_type": "stream",
          "name": "stdout",
          "text": [
            "Probabilidades de encontrar la partícula en cada posición: [0.33333333 0.16666667 0.         0.16666667 0.33333333]\n",
            "Probabilidad de transición de ket1 a ket2: 0.1666666666666667\n"
          ]
        }
      ]
    },
    {
      "cell_type": "markdown",
      "source": [
        "#Complete los retos de programación del capítulo 4.\n",
        "\n",
        "1. Amplitud de transición. El sistema puede recibir dos vectores y calcular la probabilidad de transitar de el uno al otro después de hacer la observación\n",
        "\n",
        "2. Ahora con una matriz que describa un observable y un vector ket, el sistema revisa que la matriz sea hermitiana, y si lo es, calcula la media y la varianza del observable en el estado dado.\n",
        "\n",
        "3. El sistema calcula los valores propios del observable y la probabilidad de que el sistema transite a alguno de los vectores propios después de la observación.\n",
        "\n",
        "4. Se considera la dinámica del sistema. Ahora con una serie de matrices Un el sistema calcula el estado final a partir de un estado inicial."
      ],
      "metadata": {
        "id": "GSMt06glvhRe"
      }
    },
    {
      "cell_type": "code",
      "source": [
        "import numpy as np\n",
        "\n",
        "# Función para normalizar un vector ket\n",
        "def normalize_ket(ket):\n",
        "    \"\"\" Normaliza un vector ket dividiendo por su norma. \"\"\"\n",
        "    norm = np.linalg.norm(ket)\n",
        "    return ket / norm if norm != 0 else ket\n",
        "\n",
        "# Función para calcular la probabilidad de encontrar la partícula en una posición dada\n",
        "def probability_at_position(ket, position):\n",
        "    \"\"\" Calcula la probabilidad de encontrar la partícula en una posición específica. \"\"\"\n",
        "    norm_squared = np.abs(ket) ** 2  # Tomamos el cuadrado del módulo de cada amplitud\n",
        "    return norm_squared[position] / np.sum(norm_squared)  # Normalizamos para obtener la probabilidad\n",
        "\n",
        "# Función para calcular la amplitud de transición entre dos estados\n",
        "def transition_probability(ket1, ket2):\n",
        "    \"\"\" Calcula la probabilidad de transición entre dos estados después de la observación. \"\"\"\n",
        "    ket1 = normalize_ket(ket1)\n",
        "    ket2 = normalize_ket(ket2)\n",
        "    amplitude = np.vdot(ket1, ket2)  # Producto interno entre los vectores\n",
        "    return np.abs(amplitude) ** 2  # Tomamos el módulo al cuadrado para obtener la probabilidad\n",
        "\n",
        "# Función para verificar si una matriz es hermitiana\n",
        "def is_hermitian(matrix):\n",
        "    \"\"\" Verifica si una matriz es hermitiana comparándola con su traspuesta conjugada. \"\"\"\n",
        "    return np.allclose(matrix, matrix.conj().T)\n",
        "\n",
        "# Función para calcular el valor esperado y la varianza de un observable\n",
        "def expectation_and_variance(matrix, ket):\n",
        "    \"\"\" Calcula el valor esperado y la varianza de un observable en un estado dado. \"\"\"\n",
        "    if not is_hermitian(matrix):\n",
        "        raise ValueError(\"La matriz no es hermitiana.\")\n",
        "\n",
        "    ket = normalize_ket(ket)\n",
        "    expectation_value = np.vdot(ket, matrix @ ket)  # ⟨ψ|O|ψ⟩\n",
        "\n",
        "    variance = np.vdot(ket, (matrix @ matrix) @ ket) - expectation_value ** 2  # ⟨ψ|O²|ψ⟩ - (⟨ψ|O|ψ⟩)²\n",
        "    return expectation_value, variance\n",
        "\n",
        "# Función para calcular autovalores de un observable\n",
        "def eigenvalues_and_probabilities(matrix, ket):\n",
        "    \"\"\" Calcula los valores propios y la probabilidad de transición a cada eigenestado. \"\"\"\n",
        "    if not is_hermitian(matrix):\n",
        "        raise ValueError(\"La matriz no es hermitiana.\")\n",
        "\n",
        "    eigenvalues, eigenvectors = np.linalg.eigh(matrix)  # Obtiene valores y vectores propios\n",
        "    ket = normalize_ket(ket)\n",
        "\n",
        "    probabilities = np.abs(eigenvectors.T.conj() @ ket) ** 2  # Probabilidades de transición a cada eigenestado\n",
        "    return eigenvalues, probabilities\n",
        "\n",
        "# Función para calcular la evolución del estado bajo una secuencia de matrices unitarias\n",
        "def apply_unitary_evolution(ket, unitary_matrices):\n",
        "    \"\"\" Aplica una secuencia de matrices unitarias a un estado inicial. \"\"\"\n",
        "    ket = normalize_ket(ket)\n",
        "\n",
        "    for U in unitary_matrices:\n",
        "        if not np.allclose(U.conj().T @ U, np.eye(U.shape[0])):  # Verifica si es unitaria\n",
        "            raise ValueError(\"Una de las matrices no es unitaria.\")\n",
        "        ket = U @ ket  # Aplicamos la matriz al estado\n",
        "    return ket\n",
        "\n",
        "# ======================= EJEMPLOS =======================\n",
        "\n",
        "# Definimos un estado inicial\n",
        "ket = np.array([2 - 1j, 2j, 1 - 1j, 1, -2j, 2])\n",
        "ket = normalize_ket(ket)  # Normalizamos el ket\n",
        "\n",
        "# Probabilidad de encontrar la partícula en x3\n",
        "pos = 3\n",
        "prob_pos = probability_at_position(ket, pos)\n",
        "print(f\"Ejemplo 1: Probabilidad en la posición {pos} es {prob_pos:.4f}\")\n",
        "\n",
        "# Probabilidad de transición entre dos estados\n",
        "ket2 = np.array([1j, 1, 0, 0, -1j, 2])\n",
        "prob_trans = transition_probability(ket, ket2)\n",
        "print(f\"Ejemplo 2: Probabilidad de transición entre ket1 y ket2 es {prob_trans:.4f}\")\n",
        "\n",
        "# Definimos un observable hermitiano\n",
        "observable = np.array([[3, 1j, 0], [-1j, 2, 1], [0, 1, 1]])\n",
        "\n",
        "# Comprobamos si es hermitiano\n",
        "hermitian_check = is_hermitian(observable)\n",
        "print(f\"Ejemplo 3: ¿El observable es hermitiano? {hermitian_check}\")\n",
        "\n",
        "# Calculamos el valor esperado y la varianza\n",
        "expect_val, var = expectation_and_variance(observable, ket[:3])  # Usamos solo las 3 primeras componentes\n",
        "print(f\"Ejemplo 4: Valor esperado = {expect_val:.4f}, Varianza = {var:.4f}\")\n",
        "\n",
        "# Calculamos autovalores y probabilidades\n",
        "eigvals, probs = eigenvalues_and_probabilities(observable, ket[:3])\n",
        "print(f\"Ejemplo 5: Autovalores del observable: {eigvals}\")\n",
        "print(f\"Ejemplo 6: Probabilidades de cada eigenestado: {probs}\")\n",
        "\n",
        "# Aplicamos la evolución con matrices unitarias\n",
        "U1 = np.array([[1, 0, 0], [0, np.exp(1j * np.pi / 4), 0], [0, 0, np.exp(-1j * np.pi / 4)]])\n",
        "U2 = np.array([[0, 1, 0], [1, 0, 0], [0, 0, 1]])\n",
        "final_state = apply_unitary_evolution(ket[:3], [U1, U2])\n",
        "print(f\"Ejemplo 7: Estado final tras evolución unitaria: {final_state}\")\n",
        "\n"
      ],
      "metadata": {
        "id": "s_1FJVX6zS3g",
        "colab": {
          "base_uri": "https://localhost:8080/"
        },
        "outputId": "6a93aedb-f4f2-4609-ff69-45c7659e9d09"
      },
      "execution_count": 3,
      "outputs": [
        {
          "output_type": "stream",
          "name": "stdout",
          "text": [
            "Ejemplo 1: Probabilidad en la posición 3 es 0.0500\n",
            "Ejemplo 2: Probabilidad de transición entre ket1 y ket2 es 0.1786\n",
            "Ejemplo 3: ¿El observable es hermitiano? True\n",
            "Ejemplo 4: Valor esperado = 1.1818+0.0000j, Varianza = 1.1488+0.0000j\n",
            "Ejemplo 5: Autovalores del observable: [0.26794919 2.         3.73205081]\n",
            "Ejemplo 6: Probabilidades de cada eigenestado: [0.53921905 0.39393939 0.06684156]\n",
            "Ejemplo 7: Estado final tras evolución unitaria: [-4.26401433e-01+0.42640143j  6.03022689e-01-0.30151134j\n",
            "  2.77555756e-17-0.42640143j]\n"
          ]
        }
      ]
    },
    {
      "cell_type": "markdown",
      "source": [
        "# Realice los siguientes problemas e incluyalos como ejemplos\n",
        "\n",
        "Modele en su librería los problemas\n",
        "\n",
        "4.3.1\n",
        "\n",
        "4.3.2\n",
        "\n",
        "4.4.1\n",
        "\n",
        "4.4.2\n",
        "\n",
        "Desarrolle e incluya en el Github una discusión de los ejercicios 4.5.2 y 4.5.3"
      ],
      "metadata": {
        "id": "NR2-SuRDvhVd"
      }
    },
    {
      "cell_type": "code",
      "source": [
        "from sympy import Matrix, symbols, I, sqrt\n",
        "\n",
        "# Ejercicio 4.3.1: Cálculo de las probabilidades de transición\n",
        "psi_coeffs = symbols('c0 c1 c2 c3')  # Coeficientes en la base ortonormal\n",
        "eigenvalues = symbols('lambda0 lambda1 lambda2 lambda3')  # Valores propios\n",
        "probabilities = [abs(psi_coeffs[i])**2 for i in range(4)]\n",
        "mean_value = sum(probabilities[i] * eigenvalues[i] for i in range(4))\n",
        "print(\"\\nEjercicio 4.3.1: Probabilidades de transición y valor esperado\")\n",
        "print(\"Probabilidades:\", probabilities)\n",
        "print(\"Valor Esperado:\", mean_value)\n",
        "\n",
        "# Ejercicio 4.3.2: Cálculo de las probabilidades de transición\n",
        "c0, c1, c2 = sp.symbols('c0 c1 c2', real=True) # Definimos los coeficientes de la superposición |ψ> en la base de los eigenvectores\n",
        "lambda_vals = [sp.symbols('\\lambda_0'), sp.symbols('\\lambda_1'), sp.symbols('\\lambda_2')] # Eigenvalores y eigenvectores\n",
        "p_vals = [c0**2, c1**2, c2**2]  # Probabilidades de colapso en cada eigenvector\n",
        "mean_value = sum(p_vals[i] * lambda_vals[i] for i in range(len(lambda_vals))) # Calculamos la media de la distribución\n",
        "print(\"\\nEjercicio 4.3.2: Probabilidades de transición y valor esperado\")\n",
        "print(\"Distribución de probabilidades:\")  # Imprimimos resultados algebraicos\n",
        "for i in range(len(lambda_vals)):\n",
        "    print(f\"({lambda_vals[i]}, {p_vals[i]})\")\n",
        "print(f\"Valor medio: {mean_value}\")\n",
        "# Asignamos valores numéricos a los coeficientes para graficar\n",
        "c0_val, c1_val, c2_val = 0.6, 0.3, 0.8  # Ejemplo de valores normalizados\n",
        "lambda_num = [2, 5, 7]  # Valores de eigenvalores\n",
        "p_num = [c0_val**2, c1_val**2, c2_val**2]\n",
        "# Graficamos la distribución de probabilidades\n",
        "plt.bar(lambda_num, p_num, color='blue', alpha=0.6)\n",
        "plt.xlabel(\"Eigenvalores\")\n",
        "plt.ylabel(\"Probabilidad\")\n",
        "plt.title(\"Distribución de Probabilidades de los Eigenvalores\")\n",
        "plt.show()\n",
        "\n",
        "\n",
        "# Ejercicio 4.4.1: Verificación de matrices unitarias\n",
        "U1 = Matrix([[0, 1], [1, 0]])\n",
        "U2 = Matrix([[sqrt(2)/2, sqrt(2)/2], [sqrt(2)/2, -sqrt(2)/2]])\n",
        "U1_conjugate = U1.H  # Transpuesta conjugada\n",
        "U2_conjugate = U2.H\n",
        "product_U1 = U1 * U1_conjugate\n",
        "product_U2 = U2 * U2_conjugate\n",
        "U_product = U1 * U2\n",
        "U_product_conjugate = U_product.H\n",
        "print(\"\\nEjercicio 4.4.1: Verificación de matrices unitarias\")\n",
        "print(\"U1 * U1^H:\", product_U1)\n",
        "print(\"U2 * U2^H:\", product_U2)\n",
        "print(\"(U1 * U2) * (U1 * U2)^H:\", U_product * U_product_conjugate)\n",
        "\n",
        "# Ejercicio 4.4.2: Evolución del estado cuántico\n",
        "U_new = Matrix([\n",
        "    [0, 1/sqrt(2), 1/sqrt(2), 0],\n",
        "    [1/sqrt(2), 0, 0, I/sqrt(2)],\n",
        "    [0, 1/sqrt(2), -1/sqrt(2), 0],\n",
        "    [1/sqrt(2), 0, 0, I/sqrt(2)]\n",
        "])\n",
        "psi_initial = Matrix([1, 0, 0, 0])\n",
        "psi_t1 = U_new * psi_initial\n",
        "psi_t2 = U_new * psi_t1\n",
        "psi_t3 = U_new * psi_t2\n",
        "print(\"\\nEjercicio 4.4.2: Evolución del estado cuántico\")\n",
        "print(\"Estado después de 1 paso:\", psi_t1)\n",
        "print(\"Estado después de 2 pasos:\", psi_t2)\n",
        "print(\"Estado después de 3 pasos:\", psi_t3)\n",
        "\n",
        "# Probabilidad de encontrar la partícula en la posición 3 (índice 2)\n",
        "prob_position_3 = abs(psi_t3[2])**2\n",
        "print(\"Probabilidad de estar en la posición 3:\", prob_position_3)\n"
      ],
      "metadata": {
        "colab": {
          "base_uri": "https://localhost:8080/",
          "height": 854
        },
        "id": "5W65dlojv1N3",
        "outputId": "f4c1404e-965e-4afa-801c-08c0adf32e0c"
      },
      "execution_count": 8,
      "outputs": [
        {
          "output_type": "stream",
          "name": "stdout",
          "text": [
            "\n",
            "Ejercicio 4.3.1: Probabilidades de transición y valor esperado\n",
            "Probabilidades: [Abs(c0)**2, Abs(c1)**2, Abs(c2)**2, Abs(c3)**2]\n",
            "Valor Esperado: lambda0*Abs(c0)**2 + lambda1*Abs(c1)**2 + lambda2*Abs(c2)**2 + lambda3*Abs(c3)**2\n",
            "\n",
            "Ejercicio 4.3.2: Probabilidades de transición y valor esperado\n",
            "Distribución de probabilidades:\n",
            "(\\lambda_0, c0**2)\n",
            "(\\lambda_1, c1**2)\n",
            "(\\lambda_2, c2**2)\n",
            "Valor medio: \\lambda_0*c0**2 + \\lambda_1*c1**2 + \\lambda_2*c2**2\n"
          ]
        },
        {
          "output_type": "display_data",
          "data": {
            "text/plain": [
              "<Figure size 640x480 with 1 Axes>"
            ],
            "image/png": "[encoded data removed]"
          },
          "metadata": {}
        },
        {
          "output_type": "stream",
          "name": "stdout",
          "text": [
            "\n",
            "Ejercicio 4.4.1: Verificación de matrices unitarias\n",
            "U1 * U1^H: Matrix([[1, 0], [0, 1]])\n",
            "U2 * U2^H: Matrix([[1, 0], [0, 1]])\n",
            "(U1 * U2) * (U1 * U2)^H: Matrix([[1, 0], [0, 1]])\n",
            "\n",
            "Ejercicio 4.4.2: Evolución del estado cuántico\n",
            "Estado después de 1 paso: Matrix([[0], [sqrt(2)/2], [0], [sqrt(2)/2]])\n",
            "Estado después de 2 pasos: Matrix([[1/2], [I/2], [1/2], [I/2]])\n",
            "Estado después de 3 pasos: Matrix([[sqrt(2)/4 + sqrt(2)*I/4], [0], [-sqrt(2)/4 + sqrt(2)*I/4], [0]])\n",
            "Probabilidad de estar en la posición 3: 1/4\n"
          ]
        }
      ]
    },
    {
      "cell_type": "markdown",
      "source": [
        "# Desarrolle e incluya en el Github una discusión de los ejercicios 4.5.2 y 4.5.3\n"
      ],
      "metadata": {
        "id": "ewiYWy8N6_le"
      }
    },
    {
      "cell_type": "code",
      "source": [
        "import numpy as np\n",
        "\n",
        "# Ejercicio 4.5.2 - Representación de estados de dos partículas con spin\n",
        "# Estados base de una partícula con spin\n",
        "up = np.array([[1], [0]])   # |↑⟩\n",
        "down = np.array([[0], [1]]) # |↓⟩\n",
        "\n",
        "# Producto tensorial para dos partículas\n",
        "up_up = np.kron(up, up)\n",
        "up_down = np.kron(up, down)\n",
        "down_up = np.kron(down, up)\n",
        "down_down = np.kron(down, down)\n",
        "\n",
        "# Imprimimos los estados básicos del sistema de dos partículas\n",
        "print(\"Estados base del sistema de dos partículas:\")\n",
        "print(\"|↑↑⟩ =\", up_up.T)\n",
        "print(\"|↑↓⟩ =\", up_down.T)\n",
        "print(\"|↓↑⟩ =\", down_up.T)\n",
        "print(\"|↓↓⟩ =\", down_down.T)\n",
        "\n",
        "# Generalización a n partículas\n",
        "# Para n partículas, los estados básicos se construyen de manera similar\n",
        "\n",
        "# Ejercicio 4.5.3 - Verificación de separabilidad de un estado cuántico\n",
        "# Estado dado: |φ⟩ = |x0⟩⊗|y1⟩ + |x1⟩⊗|y1⟩\n",
        "phi = up_down + down_up\n",
        "\n",
        "# Imprimimos el estado combinado\n",
        "print(\"\\nEstado cuántico |φ⟩:\")\n",
        "print(phi.T)\n",
        "\n",
        "# Verificación de separabilidad con descomposición en valores singulares (SVD)\n",
        "phi_matrix = phi.reshape(2, 2)  # Reestructuramos a una matriz 2x2\n",
        "U, S, Vh = np.linalg.svd(phi_matrix)  # Descomposición SVD\n",
        "\n",
        "print(\"\\nValores singulares:\", S)\n",
        "if np.count_nonzero(S > 1e-10) == 1:\n",
        "    print(\"El estado es separable.\")\n",
        "else:\n",
        "    print(\"El estado es entrelazado.\")\n",
        ""
      ],
      "metadata": {
        "colab": {
          "base_uri": "https://localhost:8080/"
        },
        "id": "DeNKae2M6_v1",
        "outputId": "2076f7c8-369a-4daa-f5a6-aea93314d11e"
      },
      "execution_count": 10,
      "outputs": [
        {
          "output_type": "stream",
          "name": "stdout",
          "text": [
            "Estados base del sistema de dos partículas:\n",
            "|↑↑⟩ = [[1 0 0 0]]\n",
            "|↑↓⟩ = [[0 1 0 0]]\n",
            "|↓↑⟩ = [[0 0 1 0]]\n",
            "|↓↓⟩ = [[0 0 0 1]]\n",
            "\n",
            "Estado cuántico |φ⟩:\n",
            "[[0 1 1 0]]\n",
            "\n",
            "Valores singulares: [1. 1.]\n",
            "El estado es entrelazado.\n"
          ]
        }
      ]
    },
    {
      "cell_type": "markdown",
      "source": [
        "Un estado cuántico es separable si puede escribirse como el producto tensorial de dos estados individuales.\n",
        "Si tiene más de un valor singular distinto de cero, significa que no se puede escribir como un producto de estados individuales, lo que indica que el sistema está entrelazado. En este caso, el estado |φ⟩ está entrelazado porque sus coeficientes no permiten una separación simple en términos de los estados base del sistema."
      ],
      "metadata": {
        "id": "hD546HOm8zUQ"
      }
    }
  ]
}